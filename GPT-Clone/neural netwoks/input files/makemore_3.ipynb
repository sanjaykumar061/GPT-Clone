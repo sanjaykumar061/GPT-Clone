{
 "cells": [
  {
   "cell_type": "code",
   "execution_count": 10,
   "metadata": {},
   "outputs": [],
   "source": [
    "import torch\n",
    "import torch.nn.functional as F\n",
    "import matplotlib.pyplot as plt # for making figures\n",
    "%matplotlib inline"
   ]
  },
  {
   "cell_type": "code",
   "execution_count": 11,
   "metadata": {},
   "outputs": [
    {
     "data": {
      "text/plain": [
       "['emma', 'olivia', 'ava', 'isabella', 'sophia', 'charlotte', 'mia', 'amelia']"
      ]
     },
     "execution_count": 11,
     "metadata": {},
     "output_type": "execute_result"
    }
   ],
   "source": [
    "words = open('names.txt', 'r').read().splitlines()\n",
    "words[:8]"
   ]
  },
  {
   "cell_type": "code",
   "execution_count": 12,
   "metadata": {},
   "outputs": [
    {
     "data": {
      "text/plain": [
       "32033"
      ]
     },
     "execution_count": 12,
     "metadata": {},
     "output_type": "execute_result"
    }
   ],
   "source": [
    "len(words)"
   ]
  },
  {
   "cell_type": "code",
   "execution_count": 13,
   "metadata": {},
   "outputs": [
    {
     "name": "stdout",
     "output_type": "stream",
     "text": [
      "{1: 'a', 2: 'b', 3: 'c', 4: 'd', 5: 'e', 6: 'f', 7: 'g', 8: 'h', 9: 'i', 10: 'j', 11: 'k', 12: 'l', 13: 'm', 14: 'n', 15: 'o', 16: 'p', 17: 'q', 18: 'r', 19: 's', 20: 't', 21: 'u', 22: 'v', 23: 'w', 24: 'x', 25: 'y', 26: 'z', 0: '.'}\n",
      "27\n"
     ]
    }
   ],
   "source": [
    "# building the vocabulary of charcters and mappings to integers and integer to characters\n",
    "chars = sorted(list(set(''.join(words))))\n",
    "stoi = {s:i+1 for i,s in enumerate(chars)}\n",
    "stoi['.'] = 0\n",
    "itos = {i:s for s,i in stoi.items()}\n",
    "vocab_size = len(itos)\n",
    "print(itos)\n",
    "print(vocab_size)"
   ]
  },
  {
   "cell_type": "code",
   "execution_count": 14,
   "metadata": {},
   "outputs": [
    {
     "name": "stdout",
     "output_type": "stream",
     "text": [
      "torch.Size([182625, 3]) torch.Size([182625])\n",
      "torch.Size([22655, 3]) torch.Size([22655])\n",
      "torch.Size([22866, 3]) torch.Size([22866])\n"
     ]
    }
   ],
   "source": [
    "block_size = 3 # context length from how man y words we predict the next one\n",
    "\n",
    "def build_dataset(words):  \n",
    "  X, Y = [], []\n",
    "  \n",
    "  for w in words:\n",
    "    context = [0] * block_size\n",
    "    for ch in w + '.':\n",
    "      ix = stoi[ch]\n",
    "      X.append(context)\n",
    "      Y.append(ix)\n",
    "      context = context[1:] + [ix] # crop and append\n",
    "\n",
    "  X = torch.tensor(X)\n",
    "  Y = torch.tensor(Y)\n",
    "  print(X.shape, Y.shape)\n",
    "  return X, Y\n",
    "\n",
    "import random\n",
    "random.seed(42)\n",
    "random.shuffle(words)\n",
    "n1 = int(0.8*len(words))\n",
    "n2 = int(0.9*len(words))\n",
    "\n",
    "xtr,  ytr  = build_dataset(words[:n1])     # 80%\n",
    "xdev, ydev = build_dataset(words[n1:n2])   # 10%\n",
    "xte,  yte  = build_dataset(words[n2:])     #10%"
   ]
  },
  {
   "cell_type": "code",
   "execution_count": null,
   "metadata": {},
   "outputs": [
    {
     "name": "stdout",
     "output_type": "stream",
     "text": [
      "11697\n"
     ]
    }
   ],
   "source": [
    "\n",
    "n_embd = 10 # the dimensionality of the character look up we can multiply it with block size\n",
    "n_hidden = 200 # the number of neurons in the hidden layer of the MLP\n",
    "\n",
    "g = torch.Generator().manual_seed(2147483647) # for reproducibility\n",
    "C  = torch.randn((vocab_size, n_embd),            generator=g)\n",
    "W1 = torch.randn((n_embd * block_size, n_hidden), generator=g)*(5/3)/((n_embd * block_size)**0.5) #scaling factor for tanh is 5/3 and here divide with sqrt of fanin\n",
    "b1 = torch.randn(n_hidden,                        generator=g)*0.01 \n",
    "W2 = torch.randn((n_hidden, vocab_size),          generator=g)*0.01 \n",
    "b2 = torch.randn(vocab_size,                      generator=g)*0  # multiply with 0 to reduce the logits value closer to 0\n",
    "\n",
    "parameters = [C, W1, W2, b2,]\n",
    "print(sum(p.nelement() for p in parameters)) # number of parameters in total\n",
    "for p in parameters:\n",
    "  p.requires_grad = True #it keep tracks the gradient"
   ]
  },
  {
   "cell_type": "code",
   "execution_count": 128,
   "metadata": {},
   "outputs": [
    {
     "data": {
      "text/plain": [
       "tensor([[-0.8651, -0.3529, -0.7097,  0.3659,  0.7088,  0.8335,  2.6702, -0.7828,\n",
       "         -1.2194,  1.5310, -1.3748, -2.1678, -0.2089, -0.3678,  0.2171,  1.2024,\n",
       "          0.9170, -1.3031, -0.7402,  1.2836,  0.7912, -1.1587,  0.7721,  0.9071,\n",
       "          1.0507,  0.7063,  0.2378,  0.3377, -0.2322,  1.1440, -0.6078, -0.1327,\n",
       "         -0.4078,  1.3006, -1.3817, -2.0271, -0.2379, -1.0624, -1.0890,  0.0128,\n",
       "         -0.1068, -1.7052, -0.9121, -0.7137,  0.2546, -0.4217,  0.1466, -0.5415,\n",
       "          2.5326,  2.7152,  0.7075,  0.2301,  2.3030,  1.5006,  1.9624, -1.0813,\n",
       "         -0.3374,  1.3636,  1.9027, -0.3903, -0.1022,  0.4231, -0.0561, -0.2593,\n",
       "          0.8938,  0.9277,  1.1884, -0.0836, -0.7741,  0.9738, -1.4517,  1.8728,\n",
       "          0.8597, -1.9799, -2.8256,  0.0433,  0.7107,  0.1288, -0.4350, -0.2341,\n",
       "          0.8904,  2.0423,  0.8340,  0.7421, -0.2390,  0.4309, -1.8387, -0.3401,\n",
       "          0.8720, -0.5243,  0.1026,  1.3360, -0.9290, -0.4603, -1.2951, -0.8643,\n",
       "         -2.1152, -0.5701,  0.8888, -0.9257, -1.0694,  0.3094, -2.4819,  0.0425,\n",
       "          0.0587, -0.1050, -2.2563, -1.1729,  0.2472, -1.1527, -0.2318,  1.5945,\n",
       "         -0.6694,  2.0568,  0.7413,  1.3031,  0.2754, -1.0071,  0.6272, -0.2031,\n",
       "         -1.4376,  0.9689,  1.0476,  1.7349,  0.2566,  0.8625, -0.1194, -2.0183,\n",
       "         -1.4358, -0.5683,  2.2520, -0.0222,  1.3884,  0.5989, -0.1239, -0.1310,\n",
       "          0.2518,  0.8359,  0.6711,  0.4568,  1.4321, -0.3282,  0.3621,  0.1868,\n",
       "          2.3821,  0.6865, -0.5953,  0.0203, -0.6000,  0.8327, -0.5497,  0.7917,\n",
       "          0.2634,  3.0697,  0.2832, -1.6174,  1.7250, -2.1674, -0.8682,  0.7004,\n",
       "          1.0627,  0.2841, -0.3240, -3.2942, -1.7837, -1.2275,  0.3110,  0.3239,\n",
       "         -1.3349, -0.5062, -0.2789,  0.7862,  1.2207, -0.7825, -0.8714,  1.9356,\n",
       "          2.2571, -1.5528,  0.2386, -1.3525,  1.2828,  1.1033, -1.1924,  0.6633,\n",
       "         -0.0278,  1.3413,  0.9060, -0.4126,  3.4522,  0.9696,  0.4879,  2.1476,\n",
       "         -0.3771,  1.7629,  0.4811,  0.3927,  2.4733, -0.9380,  0.1943,  0.6725]],\n",
       "       grad_fn=<MeanBackward1>)"
      ]
     },
     "execution_count": 128,
     "metadata": {},
     "output_type": "execute_result"
    }
   ],
   "source": [
    "hpreact.mean(0,keepdim=True)"
   ]
  },
  {
   "cell_type": "code",
   "execution_count": 127,
   "metadata": {},
   "outputs": [
    {
     "data": {
      "text/plain": [
       "torch.Size([32, 200])"
      ]
     },
     "execution_count": 127,
     "metadata": {},
     "output_type": "execute_result"
    }
   ],
   "source": [
    "hpreact.shape"
   ]
  },
  {
   "cell_type": "code",
   "execution_count": null,
   "metadata": {},
   "outputs": [
    {
     "name": "stdout",
     "output_type": "stream",
     "text": [
      "      0/ 200000:3.3179\n",
      "  10000/ 200000:2.2284\n",
      "  20000/ 200000:2.3442\n",
      "  30000/ 200000:2.5755\n",
      "  40000/ 200000:1.9519\n",
      "  50000/ 200000:2.4751\n",
      "  60000/ 200000:2.4350\n",
      "  70000/ 200000:2.1092\n",
      "  80000/ 200000:2.2407\n",
      "  90000/ 200000:2.1468\n",
      " 100000/ 200000:2.0061\n",
      " 110000/ 200000:2.1845\n",
      " 120000/ 200000:1.9676\n",
      " 130000/ 200000:2.3589\n",
      " 140000/ 200000:2.2752\n",
      " 150000/ 200000:2.2309\n",
      " 160000/ 200000:1.8293\n",
      " 170000/ 200000:1.7493\n",
      " 180000/ 200000:1.9836\n",
      " 190000/ 200000:1.8667\n"
     ]
    }
   ],
   "source": [
    "# using xtr and ytr\n",
    "max_steps=200000\n",
    "batch_size=32 #using  minibatch\n",
    "lossi=[]\n",
    "for i in range(max_steps):\n",
    "    ix=torch.randint(0,xtr.shape[0],(batch_size,),generator = g) #mini batch constructed\n",
    "    xb,yb=xtr[ix],ytr[ix]\n",
    "    emb=C[xb] #32,3,10\n",
    "    embcat=emb.view(emb.shape[0],-1) #in -1 pytorch automatically assigns the value\n",
    "    hpreact=embcat @ W1 + b1 #hidden layer pre activation\n",
    "    h=torch.tanh( hpreact)\n",
    "    logits=h @ W2 + b2\n",
    "    loss=F.cross_entropy(logits,yb)# loss function\n",
    "\n",
    "    #backward pass\n",
    "    for p in parameters:\n",
    "         p.grad=None\n",
    "    loss.backward()\n",
    "    #update\n",
    "    lr=0.01\n",
    "    for p in parameters:\n",
    "         p.data+=-lr*p.grad\n",
    "    if i%10000==0:\n",
    "         print(f'{i:7d}/{max_steps:7d}:{loss.item():.4f}')\n",
    "    lossi.append(loss.log10().item())\n",
    "    \n"
   ]
  },
  {
   "cell_type": "code",
   "execution_count": 60,
   "metadata": {},
   "outputs": [
    {
     "data": {
      "text/plain": [
       "[<matplotlib.lines.Line2D at 0x77cd9f076c20>]"
      ]
     },
     "execution_count": 60,
     "metadata": {},
     "output_type": "execute_result"
    },
    {
     "data": {
      "image/png": "[encoded data removed]",
      "text/plain": [
       "<Figure size 640x480 with 1 Axes>"
      ]
     },
     "metadata": {},
     "output_type": "display_data"
    }
   ],
   "source": [
    "plt.plot(lossi)"
   ]
  },
  {
   "cell_type": "code",
   "execution_count": null,
   "metadata": {},
   "outputs": [
    {
     "data": {
      "text/plain": [
       "tensor([ -2.3527,  36.4366, -10.7306,   5.7165,  18.6409, -11.6998,  -2.1991,\n",
       "          1.8535,  10.9996,  10.6730,  12.3507, -10.3809,   4.7243, -24.4257,\n",
       "         -8.5909,   1.9024, -12.2744, -12.4751, -23.2778,  -2.0163,  25.8767,\n",
       "         14.2108,  17.7691, -10.9204, -20.7335,   6.4560,  11.1615],\n",
       "       grad_fn=<SelectBackward0>)"
      ]
     },
     "execution_count": 19,
     "metadata": {},
     "output_type": "execute_result"
    }
   ],
   "source": [
    "logits[0]"
   ]
  },
  {
   "cell_type": "code",
   "execution_count": null,
   "metadata": {},
   "outputs": [],
   "source": [
    "#when we use relu it destroys half in the negative site , to compensate this with a gain we use sd=sqrt(2/N_in)\n",
    "#in gaussian distribution ,the mean is 0 and unit variance,0 or 1 sd\n",
    "#in batch normalization reduce the loss by adjustingh the mean and variance across a mini batch"
   ]
  },
  {
   "cell_type": "code",
   "execution_count": null,
   "metadata": {},
   "outputs": [
    {
     "name": "stdout",
     "output_type": "stream",
     "text": [
      "train 2.100076198577881\n",
      "val 2.1391818523406982\n"
     ]
    }
   ],
   "source": [
    "@torch.no_grad() #this disables gradient tracking\n",
    "def split_loss(split):\n",
    "    x,y={\n",
    "    'train' : (xtr,ytr),\n",
    "    'val' : (xdev,ydev),\n",
    "    'test': (xte,yte),\n",
    "    }[split] # it takes the train and val string in the list\n",
    "    emb=C[x] #(N,blocksize,n_embd)\n",
    "    embcat=emb.view(emb.shape[0],-1) #concat with (N,blocksize* n_embd)\n",
    "    hpreact=embcat @ W1 + b1 #N,n_hidden \n",
    "    h=torch.tanh( hpreact)\n",
    "    logits=h @ W2 + b2\n",
    "    loss=F.cross_entropy(logits,y)# loss function\n",
    "    print(split,loss.item())\n",
    "split_loss('train')\n",
    "split_loss('val')"
   ]
  },
  {
   "cell_type": "code",
   "execution_count": 77,
   "metadata": {},
   "outputs": [],
   "source": [
    "# loss \n",
    "#  fix softmax confidently---->\n",
    "# train 2.1446988582611084\n",
    "# val 2.1785755157470703\n",
    "# fix tanh layer at init------>\n",
    "# train 2.0994210243225098\n",
    "# val 2.1359660625457764\n",
    "\n"
   ]
  },
  {
   "cell_type": "code",
   "execution_count": 87,
   "metadata": {},
   "outputs": [
    {
     "data": {
      "image/png": "[encoded data removed]",
      "text/plain": [
       "<Figure size 640x480 with 1 Axes>"
      ]
     },
     "metadata": {},
     "output_type": "display_data"
    }
   ],
   "source": [
    "plt.hist(h.view(-1).tolist(),50); #tanh doesn't affect the loss because it is a flat surface(refer tanh backward in micrograd)"
   ]
  },
  {
   "cell_type": "code",
   "execution_count": 122,
   "metadata": {},
   "outputs": [
    {
     "data": {
      "text/plain": [
       "<matplotlib.image.AxesImage at 0x77cd256aa980>"
      ]
     },
     "execution_count": 122,
     "metadata": {},
     "output_type": "execute_result"
    },
    {
     "data": {
      "image/png": "[encoded data removed]",
      "text/plain": [
       "<Figure size 2000x1000 with 1 Axes>"
      ]
     },
     "metadata": {},
     "output_type": "display_data"
    }
   ],
   "source": [
    "plt.figure(figsize=(20,10))\n",
    "plt.imshow(h.abs() > 0.99,cmap='grey',interpolation='nearest')\n",
    "#in 200 colums if one row is fully white (i.e) true is dead neuron and does not learn anything"
   ]
  },
  {
   "cell_type": "code",
   "execution_count": 123,
   "metadata": {},
   "outputs": [
    {
     "data": {
      "image/png": "[encoded data removed]",
      "text/plain": [
       "<Figure size 640x480 with 1 Axes>"
      ]
     },
     "metadata": {},
     "output_type": "display_data"
    }
   ],
   "source": [
    "plt.hist(hpreact.view(-1).tolist(),50);"
   ]
  },
  {
   "cell_type": "code",
   "execution_count": 121,
   "metadata": {},
   "outputs": [
    {
     "data": {
      "text/plain": [
       "tensor(0.0563)"
      ]
     },
     "execution_count": 121,
     "metadata": {},
     "output_type": "execute_result"
    }
   ],
   "source": [
    "(torch.rand(1000)*0.2).std()"
   ]
  },
  {
   "cell_type": "code",
   "execution_count": null,
   "metadata": {},
   "outputs": [],
   "source": []
  },
  {
   "cell_type": "code",
   "execution_count": 124,
   "metadata": {},
   "outputs": [
    {
     "name": "stdout",
     "output_type": "stream",
     "text": [
      "tensor(0.0116) tensor(0.9905)\n",
      "tensor(0.0173) tensor(0.5761)\n"
     ]
    },
    {
     "data": {
      "text/plain": [
       "(array([4.60937327e-05, 9.21874654e-05, 4.60937327e-05, 9.21874654e-05,\n",
       "        2.76562396e-04, 5.53124792e-04, 5.53124792e-04, 1.61328064e-03,\n",
       "        1.88984304e-03, 3.27265502e-03, 6.49921631e-03, 8.71171548e-03,\n",
       "        1.57179628e-02, 2.56742091e-02, 3.95484226e-02, 6.30562263e-02,\n",
       "        9.15421531e-02, 1.28417139e-01, 1.75156184e-01, 2.36460849e-01,\n",
       "        3.03711605e-01, 3.88339698e-01, 4.68911543e-01, 5.53170886e-01,\n",
       "        6.31898981e-01, 6.93203646e-01, 7.17541137e-01, 7.05372391e-01,\n",
       "        6.77670058e-01, 6.26598202e-01, 5.58056822e-01, 4.83892006e-01,\n",
       "        3.90229541e-01, 3.25836596e-01, 2.48076469e-01, 1.92717896e-01,\n",
       "        1.45287445e-01, 1.01821056e-01, 6.99702862e-02, 4.61398264e-02,\n",
       "        3.26804565e-02, 2.24015541e-02, 1.50726506e-02, 8.98827787e-03,\n",
       "        4.97812313e-03, 3.54921742e-03, 1.79765557e-03, 1.10624958e-03,\n",
       "        2.30468663e-04, 2.76562396e-04]),\n",
       " array([-2.92634654e+00, -2.81787192e+00, -2.70939731e+00, -2.60092269e+00,\n",
       "        -2.49244807e+00, -2.38397346e+00, -2.27549884e+00, -2.16702422e+00,\n",
       "        -2.05854960e+00, -1.95007499e+00, -1.84160037e+00, -1.73312575e+00,\n",
       "        -1.62465114e+00, -1.51617652e+00, -1.40770190e+00, -1.29922729e+00,\n",
       "        -1.19075267e+00, -1.08227805e+00, -9.73803434e-01, -8.65328817e-01,\n",
       "        -7.56854200e-01, -6.48379583e-01, -5.39904966e-01, -4.31430349e-01,\n",
       "        -3.22955732e-01, -2.14481115e-01, -1.06006498e-01,  2.46811867e-03,\n",
       "         1.10942736e-01,  2.19417353e-01,  3.27891970e-01,  4.36366587e-01,\n",
       "         5.44841204e-01,  6.53315821e-01,  7.61790438e-01,  8.70265055e-01,\n",
       "         9.78739672e-01,  1.08721429e+00,  1.19568891e+00,  1.30416352e+00,\n",
       "         1.41263814e+00,  1.52111276e+00,  1.62958737e+00,  1.73806199e+00,\n",
       "         1.84653661e+00,  1.95501122e+00,  2.06348584e+00,  2.17196046e+00,\n",
       "         2.28043508e+00,  2.38890969e+00,  2.49738431e+00]),\n",
       " <BarContainer object of 50 artists>)"
      ]
     },
     "execution_count": 124,
     "metadata": {},
     "output_type": "execute_result"
    },
    {
     "data": {
      "image/png": "[encoded data removed]",
      "text/plain": [
       "<Figure size 2000x500 with 2 Axes>"
      ]
     },
     "metadata": {},
     "output_type": "display_data"
    }
   ],
   "source": [
    "x=torch.randn(1000,10)\n",
    "w=torch.rand(10,200) /10**0.5\n",
    "y=x@w\n",
    "print(x.mean(),x.std())\n",
    "print(y.mean(),y.std())\n",
    "plt.figure(figsize=[20,5])\n",
    "plt.subplot(121)\n",
    "plt.hist(x.view(-1).tolist(),50,density=True)\n",
    "plt.subplot(122)\n",
    "plt.hist(y.view(-1).tolist(),50,density=True)\n"
   ]
  },
  {
   "cell_type": "code",
   "execution_count": null,
   "metadata": {},
   "outputs": [],
   "source": []
  },
  {
   "cell_type": "code",
   "execution_count": null,
   "metadata": {},
   "outputs": [],
   "source": []
  }
 ],
 "metadata": {
  "kernelspec": {
   "display_name": "Python 3",
   "language": "python",
   "name": "python3"
  },
  "language_info": {
   "codemirror_mode": {
    "name": "ipython",
    "version": 3
   },
   "file_extension": ".py",
   "mimetype": "text/x-python",
   "name": "python",
   "nbconvert_exporter": "python",
   "pygments_lexer": "ipython3",
   "version": "3.10.12"
  }
 },
 "nbformat": 4,
 "nbformat_minor": 2
}
