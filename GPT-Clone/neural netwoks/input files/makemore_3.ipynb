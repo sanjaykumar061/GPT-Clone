{
 "cells": [
  {
   "cell_type": "code",
   "execution_count": 5,
   "metadata": {},
   "outputs": [],
   "source": [
    "import torch\n",
    "import torch.nn.functional as F\n",
    "import matplotlib.pyplot as plt # for making figures\n",
    "%matplotlib inline"
   ]
  },
  {
   "cell_type": "code",
   "execution_count": 6,
   "metadata": {},
   "outputs": [
    {
     "data": {
      "text/plain": [
       "['emma', 'olivia', 'ava', 'isabella', 'sophia', 'charlotte', 'mia', 'amelia']"
      ]
     },
     "execution_count": 6,
     "metadata": {},
     "output_type": "execute_result"
    }
   ],
   "source": [
    "words = open('names.txt', 'r').read().splitlines()\n",
    "words[:8]"
   ]
  },
  {
   "cell_type": "code",
   "execution_count": 7,
   "metadata": {},
   "outputs": [
    {
     "data": {
      "text/plain": [
       "32033"
      ]
     },
     "execution_count": 7,
     "metadata": {},
     "output_type": "execute_result"
    }
   ],
   "source": [
    "len(words)"
   ]
  },
  {
   "cell_type": "code",
   "execution_count": 8,
   "metadata": {},
   "outputs": [
    {
     "name": "stdout",
     "output_type": "stream",
     "text": [
      "{1: 'a', 2: 'b', 3: 'c', 4: 'd', 5: 'e', 6: 'f', 7: 'g', 8: 'h', 9: 'i', 10: 'j', 11: 'k', 12: 'l', 13: 'm', 14: 'n', 15: 'o', 16: 'p', 17: 'q', 18: 'r', 19: 's', 20: 't', 21: 'u', 22: 'v', 23: 'w', 24: 'x', 25: 'y', 26: 'z', 0: '.'}\n",
      "27\n"
     ]
    }
   ],
   "source": [
    "# building the vocabulary of charcters and mappings to integers and integer to characters\n",
    "chars = sorted(list(set(''.join(words))))\n",
    "stoi = {s:i+1 for i,s in enumerate(chars)}\n",
    "stoi['.'] = 0\n",
    "itos = {i:s for s,i in stoi.items()}\n",
    "vocab_size = len(itos)\n",
    "print(itos)\n",
    "print(vocab_size)"
   ]
  },
  {
   "cell_type": "code",
   "execution_count": 9,
   "metadata": {},
   "outputs": [
    {
     "name": "stdout",
     "output_type": "stream",
     "text": [
      "torch.Size([182625, 3]) torch.Size([182625])\n",
      "torch.Size([22655, 3]) torch.Size([22655])\n",
      "torch.Size([22866, 3]) torch.Size([22866])\n"
     ]
    }
   ],
   "source": [
    "block_size = 3 # context length from how man y words we predict the next one\n",
    "\n",
    "def build_dataset(words):  \n",
    "  X, Y = [], []\n",
    "  \n",
    "  for w in words:\n",
    "    context = [0] * block_size\n",
    "    for ch in w + '.':\n",
    "      ix = stoi[ch]\n",
    "      X.append(context)\n",
    "      Y.append(ix)\n",
    "      context = context[1:] + [ix] # crop and append\n",
    "\n",
    "  X = torch.tensor(X)\n",
    "  Y = torch.tensor(Y)\n",
    "  print(X.shape, Y.shape)\n",
    "  return X, Y\n",
    "\n",
    "import random\n",
    "random.seed(42)\n",
    "random.shuffle(words)\n",
    "n1 = int(0.8*len(words))\n",
    "n2 = int(0.9*len(words))\n",
    "\n",
    "xtr,  ytr  = build_dataset(words[:n1])     # 80%\n",
    "xdev, ydev = build_dataset(words[n1:n2])   # 10%\n",
    "xte,  yte  = build_dataset(words[n2:])     #10%"
   ]
  },
  {
   "cell_type": "code",
   "execution_count": 11,
   "metadata": {},
   "outputs": [
    {
     "name": "stdout",
     "output_type": "stream",
     "text": [
      "12070\n"
     ]
    }
   ],
   "source": [
    "\n",
    "n_embd = 10 # the dimensionality of the character look up we can multiply it with block size\n",
    "n_hidden = 200 # the number of neurons in the hidden layer of the MLP\n",
    "\n",
    "g = torch.Generator().manual_seed(2147483647) # for reproducibility\n",
    "C  = torch.randn((vocab_size, n_embd),            generator=g)\n",
    "W1 = torch.randn((n_embd * block_size, n_hidden), generator=g)*(5/3)/((n_embd * block_size)**0.5) #scaling factor for tanh is 5/3 and here divide with sqrt of fanin\n",
    "#b1 = torch.randn(n_hidden,                        generator=g)*0.01 no need because it has own bias\n",
    "W2 = torch.randn((n_hidden, vocab_size),          generator=g)*0.01 \n",
    "# b2 = torch.randn(vocab_size,                      generator=g)*0  # multiply with 0 to reduce the logits value closer to 0\n",
    "#batchnorm parameters\n",
    "bngain=torch.ones(1,n_hidden) \n",
    "bnbias=torch.zeros(1,n_hidden) # has its own bias\n",
    "bnmean_running=torch.zeros(1,n_hidden)\n",
    "bnstd_running=torch.ones(1,n_hidden)\n",
    "parameters = [C, W1, W2,bngain,bnbias]\n",
    "print(sum(p.nelement() for p in parameters)) # number of parameters in total\n",
    "for p in parameters:\n",
    "  p.requires_grad = True #it keep tracks the gradient"
   ]
  },
  {
   "cell_type": "code",
   "execution_count": null,
   "metadata": {},
   "outputs": [
    {
     "name": "stdout",
     "output_type": "stream",
     "text": [
      "      0/ 200000:3.2993\n"
     ]
    }
   ],
   "source": [
    "# using xtr and ytr\n",
    "max_steps=200000\n",
    "batch_size=32 #using  minibatch\n",
    "lossi=[]\n",
    "for i in range(max_steps):\n",
    "    ix=torch.randint(0,xtr.shape[0],(batch_size,),generator = g) #mini batch constructed\n",
    "    xb,yb=xtr[ix],ytr[ix]\n",
    "    emb=C[xb] #32,3,10\n",
    "    embcat=emb.view(emb.shape[0],-1) #in -1 pytorch automatically assigns the value\n",
    "    hpreact=embcat @ W1 #+b1  #hidden layer pre activation\n",
    "    bnmeani=hpreact.mean(0,keepdim=True)\n",
    "    bnstdi=hpreact.std(0,keepdim=True)\n",
    "    hpreact=bngain*(hpreact-bnmeani)/bnstdi+bnbias #batch normalization layer has bnbias in own so no need to add ext bias\n",
    "\n",
    "    with torch.no_grad():\n",
    "         bnmean_running=0.999*bnmean_running+0.001*bnmeani #these are inferences used for the testing and validatiio after the completion of training\n",
    "         bnstd_running=0.999*bnstd_running+0.001*bnstdi\n",
    "    h=torch.tanh( hpreact)\n",
    "    logits=h @ W2 #+b2\n",
    "    loss=F.cross_entropy(logits,yb)# loss function\n",
    "\n",
    "    #backward pass \n",
    "    for p in parameters:\n",
    "         p.grad=None\n",
    "    loss.backward()\n",
    "    #update\n",
    "    lr=0.1 if i<10000 else 0.01\n",
    "    for p in parameters:\n",
    "         p.data+=-lr*p.grad\n",
    "    if i%10000==0:\n",
    "         print(f'{i:7d}/{max_steps:7d}:{loss.item():.4f}')\n",
    "    lossi.append(loss.log10().item())\n",
    "    break"
   ]
  },
  {
   "cell_type": "code",
   "execution_count": 21,
   "metadata": {},
   "outputs": [
    {
     "data": {
      "text/plain": [
       "torch.Size([32, 1])"
      ]
     },
     "execution_count": 21,
     "metadata": {},
     "output_type": "execute_result"
    }
   ],
   "source": [
    "hpreact.mean(1,keepdim=True).shape"
   ]
  },
  {
   "cell_type": "code",
   "execution_count": null,
   "metadata": {},
   "outputs": [
    {
     "data": {
      "text/plain": [
       "tensor([109738,  58041, 156846,  75401,  78923, 144862, 120627,  31966, 182215,\n",
       "         82553, 122874,   5197,  99677, 101728,  53213, 114200, 168023,  97806,\n",
       "         20987,  61970,  94015, 126530, 113257,  77965, 113535,  70576,  80528,\n",
       "        137928, 151628,  78797, 102637, 174851])"
      ]
     },
     "execution_count": 274,
     "metadata": {},
     "output_type": "execute_result"
    }
   ],
   "source": [
    "torch.randint(0,xtr.shape[0],(batch_size,),generator = g)"
   ]
  },
  {
   "cell_type": "code",
   "execution_count": null,
   "metadata": {},
   "outputs": [
    {
     "data": {
      "text/plain": [
       "[<matplotlib.lines.Line2D at 0x7b6f3c4b08b0>]"
      ]
     },
     "execution_count": 275,
     "metadata": {},
     "output_type": "execute_result"
    },
    {
     "data": {
      "image/png": "[encoded data removed]",
      "text/plain": [
       "<Figure size 640x480 with 1 Axes>"
      ]
     },
     "metadata": {},
     "output_type": "display_data"
    }
   ],
   "source": [
    "plt.plot(lossi)"
   ]
  },
  {
   "cell_type": "code",
   "execution_count": null,
   "metadata": {},
   "outputs": [
    {
     "data": {
      "text/plain": [
       "tensor([ 0.3235,  1.6155, -0.3374, -0.1513,  0.1588,  1.2646, -1.1294, -0.8049,\n",
       "         0.0685,  1.2868, -0.7514, -0.1412,  0.9358,  0.0152,  0.7865,  0.3808,\n",
       "        -0.9828, -1.5189,  0.7542,  0.7803,  0.1812, -0.1881, -0.5730, -1.0899,\n",
       "        -1.1459,  0.7107, -0.5058], grad_fn=<SelectBackward0>)"
      ]
     },
     "execution_count": 276,
     "metadata": {},
     "output_type": "execute_result"
    }
   ],
   "source": [
    "logits[0]"
   ]
  },
  {
   "cell_type": "code",
   "execution_count": null,
   "metadata": {},
   "outputs": [],
   "source": [
    "#Saturated-when the act func produces output very close to the input values\n",
    "#non linearity is function where output change does not directly propotional to input\n",
    "#when we use relu it destroys half in the negative site , to compensate this with a gain we use sd=sqrt(2/N_in)(using kaiming init techniq for weight adjustment)\n",
    "#formula for weigt adjusment in tanh ==gain/sqrt(fanin)\n",
    "#A Gaussian distribution with zero mean and controlled variance ensures weights stay in a balanced range.(for relu and tanh)\n",
    "#in batch normalization reduce the loss by adjusting the mean and variance across a mini batch\n",
    "#have a screenshot for formulas normalize the hidden hpreact layer using gaussian distribution"
   ]
  },
  {
   "cell_type": "code",
   "execution_count": null,
   "metadata": {},
   "outputs": [],
   "source": [
    "torch.no_grad() #this disables gradient tracking\n",
    "emb=C[xtr] #(N,blocksize,n_embd)\n",
    "embcat=emb.view(emb.shape[0],-1) #concat with (N,blocksize* n_embd)\n",
    "hpreact=embcat @ W1 #b1 #N,n_hidden \n",
    "bnmean=hpreact.mean(0,keepdim=True)\n",
    "bnstd=hpreact.std(0,keepdim=True)\n",
    "# hpreact=bngain*(hpreact-(hpreact.mean(0,keepdim=True)))/hpreact.std(0,keepdim=True)+bnbias"
   ]
  },
  {
   "cell_type": "code",
   "execution_count": null,
   "metadata": {},
   "outputs": [
    {
     "ename": "SyntaxError",
     "evalue": "invalid syntax (338868846.py, line 13)",
     "output_type": "error",
     "traceback": [
      "\u001b[0;36m  Cell \u001b[0;32mIn[279], line 13\u001b[0;36m\u001b[0m\n\u001b[0;31m    logits=h @ W2 b2\u001b[0m\n\u001b[0m                  ^\u001b[0m\n\u001b[0;31mSyntaxError\u001b[0m\u001b[0;31m:\u001b[0m invalid syntax\n"
     ]
    }
   ],
   "source": [
    "@torch.no_grad() #this disables gradient tracking\n",
    "def split_loss(split):\n",
    "    x,y={ \n",
    "    'train' : (xtr,ytr),\n",
    "    'val' : (xdev,ydev),\n",
    "    'test': (xte,yte),\n",
    "    }[split] # it takes the train and val string in the list\n",
    "    emb=C[x] #(N,blocksize,n_embd)\n",
    "    embcat=emb.view(emb.shape[0],-1) #concat with (N,blocksize* n_embd)\n",
    "    hpreact=embcat @ W1  #b1 #N,n_hidden \n",
    "    hpreact=bngain*(hpreact-bnmeani)/bnstdi+bnbias\n",
    "    h=torch.tanh( hpreact)\n",
    "    logits=h @ W2 b2\n",
    "    loss=F.cross_entropy(logits,y)# loss function\n",
    "    print(split,loss.item())\n",
    "split_loss('train')\n",
    "split_loss('val')"
   ]
  },
  {
   "cell_type": "code",
   "execution_count": null,
   "metadata": {},
   "outputs": [],
   "source": [
    "# loss \n",
    "#  fix softmax confidently wrong---->\n",
    "# train 2.1446988582611084\n",
    "# val 2.1785755157470703\n",
    "#fix tanh layer saturated at init------>\n",
    "# train 2.100076198577881\n",
    "# val 2.1391818523406982\n",
    "#use semi principled kaiming init instead of hacky init(ie multiply the weight by gain divided by sqrt(fanin))\n",
    "# train 2.0994210243225098\n",
    "# val 2.1359660625457764\n",
    "#Add a batch norm layer\n"
   ]
  },
  {
   "cell_type": "code",
   "execution_count": null,
   "metadata": {},
   "outputs": [],
   "source": [
    "# plt.hist(h.view(-1).tolist(),50); #tanh doesn't affect the loss because it is a flat surface(refer tanh backward in micrograd)"
   ]
  },
  {
   "cell_type": "code",
   "execution_count": null,
   "metadata": {},
   "outputs": [],
   "source": [
    "# plt.figure(figsize=(20,10))\n",
    "# plt.imshow(h.abs() > 0.99,cmap='grey',interpolation='nearest')\n",
    "#in 200 colums if one row is fully white (i.e) true is dead neuron and does not learn anything"
   ]
  },
  {
   "cell_type": "code",
   "execution_count": null,
   "metadata": {},
   "outputs": [
    {
     "data": {
      "image/png": "[encoded data removed]",
      "text/plain": [
       "<Figure size 640x480 with 1 Axes>"
      ]
     },
     "metadata": {},
     "output_type": "display_data"
    }
   ],
   "source": [
    "plt.hist(hpreact.view(-1).tolist(),50);"
   ]
  },
  {
   "cell_type": "code",
   "execution_count": null,
   "metadata": {},
   "outputs": [
    {
     "data": {
      "text/plain": [
       "tensor(0.0575)"
      ]
     },
     "execution_count": 194,
     "metadata": {},
     "output_type": "execute_result"
    }
   ],
   "source": [
    "(torch.rand(1000)*0.2).std()"
   ]
  },
  {
   "cell_type": "code",
   "execution_count": null,
   "metadata": {},
   "outputs": [
    {
     "name": "stdout",
     "output_type": "stream",
     "text": [
      "tensor(-0.0195) tensor(1.0071)\n",
      "tensor(0.0063) tensor(1.0165)\n"
     ]
    },
    {
     "data": {
      "text/plain": [
       "(array([2.15994835e-05, 0.00000000e+00, 2.15994835e-05, 8.63979340e-05,\n",
       "        1.29596901e-04, 1.72795868e-04, 3.88790703e-04, 7.99180890e-04,\n",
       "        9.71976758e-04, 2.03035145e-03, 2.57033854e-03, 5.16227656e-03,\n",
       "        7.81901303e-03, 1.22037082e-02, 1.82515636e-02, 3.00016826e-02,\n",
       "        4.50565226e-02, 6.66992051e-02, 9.83424484e-02, 1.39856656e-01,\n",
       "        1.91587419e-01, 2.48221265e-01, 3.16562030e-01, 3.68724783e-01,\n",
       "        4.14558887e-01, 4.28879345e-01, 4.07517455e-01, 3.60257785e-01,\n",
       "        3.07209454e-01, 2.45067740e-01, 1.83574010e-01, 1.35795953e-01,\n",
       "        9.62904975e-02, 6.55112335e-02, 4.26589799e-02, 2.84681193e-02,\n",
       "        1.78843723e-02, 1.17285195e-02, 7.27902594e-03, 4.64388896e-03,\n",
       "        2.89433079e-03, 1.44716540e-03, 9.28777791e-04, 6.91183472e-04,\n",
       "        4.31989670e-04, 3.23992253e-04, 6.47984505e-05, 4.31989670e-05,\n",
       "        2.15994835e-05, 4.31989670e-05]),\n",
       " array([-5.88490343, -5.65341641, -5.4219294 , -5.19044238, -4.95895536,\n",
       "        -4.72746835, -4.49598133, -4.26449431, -4.0330073 , -3.80152028,\n",
       "        -3.57003326, -3.33854625, -3.10705923, -2.87557221, -2.6440852 ,\n",
       "        -2.41259818, -2.18111116, -1.94962415, -1.71813713, -1.48665011,\n",
       "        -1.2551631 , -1.02367608, -0.79218906, -0.56070205, -0.32921503,\n",
       "        -0.09772801,  0.133759  ,  0.36524602,  0.59673304,  0.82822005,\n",
       "         1.05970707,  1.29119409,  1.5226811 ,  1.75416812,  1.98565514,\n",
       "         2.21714215,  2.44862917,  2.68011619,  2.9116032 ,  3.14309022,\n",
       "         3.37457724,  3.60606425,  3.83755127,  4.06903829,  4.3005253 ,\n",
       "         4.53201232,  4.76349934,  4.99498635,  5.22647337,  5.45796039,\n",
       "         5.6894474 ]),\n",
       " <BarContainer object of 50 artists>)"
      ]
     },
     "execution_count": 195,
     "metadata": {},
     "output_type": "execute_result"
    },
    {
     "data": {
      "image/png": "[encoded data removed]",
      "text/plain": [
       "<Figure size 2000x500 with 2 Axes>"
      ]
     },
     "metadata": {},
     "output_type": "display_data"
    }
   ],
   "source": [
    "x=torch.randn(1000,10)\n",
    "w=torch.randn(10,200) /10**0.5\n",
    "y=x@w\n",
    "print(x.mean(),x.std())\n",
    "print(y.mean(),y.std())\n",
    "plt.figure(figsize=[20,5])\n",
    "plt.subplot(121)\n",
    "plt.hist(x.view(-1).tolist(),50,density=True)\n",
    "plt.subplot(122)\n",
    "plt.hist(y.view(-1).tolist(),50,density=True)\n"
   ]
  }
 ],
 "metadata": {
  "kernelspec": {
   "display_name": "Python 3",
   "language": "python",
   "name": "python3"
  },
  "language_info": {
   "codemirror_mode": {
    "name": "ipython",
    "version": 3
   },
   "file_extension": ".py",
   "mimetype": "text/x-python",
   "name": "python",
   "nbconvert_exporter": "python",
   "pygments_lexer": "ipython3",
   "version": "3.10.12"
  }
 },
 "nbformat": 4,
 "nbformat_minor": 2
}
