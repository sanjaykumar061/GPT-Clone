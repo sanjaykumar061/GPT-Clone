{
 "cells": [
  {
   "cell_type": "code",
   "execution_count": 5,
   "metadata": {},
   "outputs": [],
   "source": [
    "import torch\n",
    "import torch.nn.functional as F\n",
    "import matplotlib.pyplot as plt\n",
    "%matplotlib inline\n"
   ]
  },
  {
   "cell_type": "code",
   "execution_count": 6,
   "metadata": {},
   "outputs": [
    {
     "data": {
      "text/plain": [
       "6487"
      ]
     },
     "execution_count": 6,
     "metadata": {},
     "output_type": "execute_result"
    }
   ],
   "source": [
    "words=open('indian_names.txt','r').read().splitlines()\n",
    "len(words)"
   ]
  },
  {
   "cell_type": "code",
   "execution_count": 7,
   "metadata": {},
   "outputs": [
    {
     "name": "stdout",
     "output_type": "stream",
     "text": [
      "{0: '.', 1: 'a', 2: 'b', 3: 'c', 4: 'd', 5: 'e', 6: 'f', 7: 'g', 8: 'h', 9: 'i', 10: 'j', 11: 'k', 12: 'l', 13: 'm', 14: 'n', 15: 'o', 16: 'p', 17: 'q', 18: 'r', 19: 's', 20: 't', 21: 'u', 22: 'v', 23: 'w', 24: 'x', 25: 'y', 26: 'z'}\n"
     ]
    }
   ],
   "source": [
    "chs=sorted(list(set(''.join(words))))\n",
    "stoi={s:i for i,s in enumerate(chs)}\n",
    "stoi['.']=0\n",
    "itos={i:s for s,i in stoi.items()}\n",
    "print(itos)\n",
    "    "
   ]
  },
  {
   "cell_type": "code",
   "execution_count": 8,
   "metadata": {},
   "outputs": [],
   "source": [
    "block_size=3 # context length i.e from how many chars we predict the next one\n",
    "x,y=[],[] \n",
    "for w in words:\n",
    "    # print(w)\n",
    "    context=[0]*block_size #initially it has context 3\n",
    "    for ch in w+'.':\n",
    "        ix=stoi[ch]\n",
    "        x.append(context)\n",
    "        y.append(ix)\n",
    "        # print(''.join((itos[i]) for i in context),'----->',itos[ix]) #converts the context into the list\n",
    "        context=context[1:]+[ix] # to remove the first element and add the new element in the last to update the context\n",
    "x=torch.tensor(x)\n",
    "y=torch.tensor(y)\n"
   ]
  },
  {
   "cell_type": "code",
   "execution_count": 9,
   "metadata": {},
   "outputs": [
    {
     "data": {
      "text/plain": [
       "(torch.Size([47706, 3]), torch.int64, torch.Size([47706]), torch.int64)"
      ]
     },
     "execution_count": 9,
     "metadata": {},
     "output_type": "execute_result"
    }
   ],
   "source": [
    "x.shape ,x.dtype ,y.shape,y.dtype"
   ]
  },
  {
   "cell_type": "code",
   "execution_count": 10,
   "metadata": {},
   "outputs": [
    {
     "data": {
      "text/plain": [
       "tensor([[ 4.2782e-01, -1.1695e+00],\n",
       "        [ 1.6132e+00,  5.6800e-02],\n",
       "        [-4.5336e-01,  5.6203e-01],\n",
       "        [-1.2075e-01, -2.4399e-01],\n",
       "        [-1.3451e+00, -1.7844e+00],\n",
       "        [ 8.9498e-01,  1.5019e+00],\n",
       "        [ 4.5103e-01, -3.6290e-01],\n",
       "        [-2.0713e+00, -1.7160e+00],\n",
       "        [-7.0824e-01, -7.3562e-01],\n",
       "        [-1.1754e-01,  8.6247e-01],\n",
       "        [ 1.9329e-01,  3.6491e-01],\n",
       "        [ 1.1160e+00,  4.6607e-01],\n",
       "        [-1.8764e-01, -2.7117e-02],\n",
       "        [-1.0752e+00,  3.8740e-01],\n",
       "        [ 1.5210e+00, -8.9427e-01],\n",
       "        [-1.1863e+00,  8.5189e-01],\n",
       "        [ 1.7652e+00, -2.0069e+00],\n",
       "        [-1.0450e+00, -6.9795e-01],\n",
       "        [ 2.0206e-03,  1.0692e-01],\n",
       "        [-1.5768e+00, -1.5247e-01],\n",
       "        [-4.5168e-01, -1.8330e-01],\n",
       "        [-9.2482e-01,  4.6515e-02],\n",
       "        [-1.0959e+00,  1.0719e+00],\n",
       "        [-4.1680e-01, -3.3750e-01],\n",
       "        [ 5.3284e-02, -1.1542e+00],\n",
       "        [-6.9859e-01, -1.2336e+00],\n",
       "        [-6.2025e-01,  2.4092e-01]])"
      ]
     },
     "execution_count": 10,
     "metadata": {},
     "output_type": "execute_result"
    }
   ],
   "source": [
    "C=torch.randn(27,2).float() #look up table to embed the vector\n",
    "C"
   ]
  },
  {
   "cell_type": "code",
   "execution_count": 11,
   "metadata": {},
   "outputs": [
    {
     "data": {
      "text/plain": [
       "tensor([0.8950, 1.5019])"
      ]
     },
     "execution_count": 11,
     "metadata": {},
     "output_type": "execute_result"
    }
   ],
   "source": [
    "C[5]"
   ]
  },
  {
   "cell_type": "code",
   "execution_count": 12,
   "metadata": {},
   "outputs": [
    {
     "data": {
      "text/plain": [
       "tensor([[ 0.8950,  1.5019],\n",
       "        [ 0.4510, -0.3629],\n",
       "        [-2.0713, -1.7160]])"
      ]
     },
     "execution_count": 12,
     "metadata": {},
     "output_type": "execute_result"
    }
   ],
   "source": [
    "C[[5,6,7]] # call with a list of value"
   ]
  },
  {
   "cell_type": "code",
   "execution_count": 13,
   "metadata": {},
   "outputs": [
    {
     "data": {
      "text/plain": [
       "torch.Size([47706, 3, 2])"
      ]
     },
     "execution_count": 13,
     "metadata": {},
     "output_type": "execute_result"
    }
   ],
   "source": [
    "C[x] .shape#X as a value passes to C"
   ]
  },
  {
   "cell_type": "code",
   "execution_count": 14,
   "metadata": {},
   "outputs": [],
   "source": [
    "# emb=C[x]plt.plot(lri,lossi)"
   ]
  },
  {
   "cell_type": "code",
   "execution_count": 15,
   "metadata": {},
   "outputs": [],
   "source": [
    "# torch.cat([emb[:, 0, :], emb[:, 1, :], emb[:, 2, :]], 1).shape # its only for fixed block size 3\n"
   ]
  },
  {
   "cell_type": "code",
   "execution_count": 16,
   "metadata": {},
   "outputs": [],
   "source": [
    "W1=torch.randn(6,100)\n",
    "b1=torch.randn(100)"
   ]
  },
  {
   "cell_type": "code",
   "execution_count": 17,
   "metadata": {},
   "outputs": [],
   "source": [
    "# emb=torch.cat(torch.unbind(emb,1),1).shape # for all block size"
   ]
  },
  {
   "cell_type": "code",
   "execution_count": 18,
   "metadata": {},
   "outputs": [],
   "source": [
    "emb=C[x]"
   ]
  },
  {
   "cell_type": "code",
   "execution_count": 19,
   "metadata": {},
   "outputs": [
    {
     "data": {
      "text/plain": [
       "tensor([[ 0.2069,  0.8623, -0.9392,  ..., -0.3218,  0.6732, -0.8350],\n",
       "        [ 0.9930,  0.9372, -0.7933,  ..., -0.7762, -0.4142, -0.8454],\n",
       "        [ 0.9112,  0.7082,  0.9752,  ..., -0.8093, -1.0000,  0.7939],\n",
       "        ...,\n",
       "        [-0.9933, -0.9363, -0.5325,  ..., -0.1319,  0.9992, -0.9210],\n",
       "        [ 0.0323, -0.3552,  0.6651,  ...,  0.8678,  0.4870, -0.9863],\n",
       "        [-0.9932, -0.9990,  0.9998,  ...,  0.9251, -1.0000,  0.8550]])"
      ]
     },
     "execution_count": 19,
     "metadata": {},
     "output_type": "execute_result"
    }
   ],
   "source": [
    "h=torch.tanh(emb.view(-1,6) @ W1 + b1) # -1 for any value in x like 32\n",
    "h"
   ]
  },
  {
   "cell_type": "code",
   "execution_count": 20,
   "metadata": {},
   "outputs": [
    {
     "data": {
      "text/plain": [
       "torch.Size([47706, 27])"
      ]
     },
     "execution_count": 20,
     "metadata": {},
     "output_type": "execute_result"
    }
   ],
   "source": [
    "W2=torch.randn(100,27)\n",
    "b2=torch.randn(27)\n",
    "logits=h @ W2 + b2 #softmax function\n",
    "counts=logits.log() #finding fake counts to normalize the values\n",
    "prob=counts/counts.sum(1,keepdim=True)\n",
    "#instead of using the 3 lines ,we use cross entropy to find the loss\n",
    "prob.shape"
   ]
  },
  {
   "cell_type": "code",
   "execution_count": 21,
   "metadata": {},
   "outputs": [
    {
     "data": {
      "text/plain": [
       "tensor([1, 1, 2,  ..., 5, 2, 0])"
      ]
     },
     "execution_count": 21,
     "metadata": {},
     "output_type": "execute_result"
    }
   ],
   "source": [
    "y"
   ]
  },
  {
   "cell_type": "code",
   "execution_count": 22,
   "metadata": {},
   "outputs": [],
   "source": [
    "g=torch.Generator().manual_seed(2147483647)\n",
    "C=torch.randn((27,10),generator =g ,requires_grad=True) # using 10 for 10 neurons \n",
    "W1=torch.randn((30,200),generator=g) # there are three unputs for each neuron \n",
    "b1=torch.randn((200),generator=g) #using broadcasting to take copy of valiues\n",
    "W2=torch.randn((200,27),generator=g) #gives a character from 27 characters so we are using 27\n",
    "b2=torch.randn((27),generator=g)\n",
    "parameters=[C,W1,b1,W2,b2]"
   ]
  },
  {
   "cell_type": "code",
   "execution_count": 23,
   "metadata": {},
   "outputs": [
    {
     "data": {
      "text/plain": [
       "11897"
      ]
     },
     "execution_count": 23,
     "metadata": {},
     "output_type": "execute_result"
    }
   ],
   "source": [
    "sum(p.nelement() for p in parameters)"
   ]
  },
  {
   "cell_type": "code",
   "execution_count": 24,
   "metadata": {},
   "outputs": [],
   "source": [
    "for p in parameters:\n",
    "    p.requires_grad=True"
   ]
  },
  {
   "cell_type": "code",
   "execution_count": 25,
   "metadata": {},
   "outputs": [],
   "source": [
    "# for _ in range(100):\n",
    "#     #forward pass\n",
    "#     emb=C[x]\n",
    "#    print(''.join((itos[i]) for i in context),'----->',itos[ix])   h=torch.tanh(emb.view(-1,6) @ W1 + b1)\n",
    "#     logits=h @ W2 + b2\n",
    "#     loss=F.cross_entropy(logits,y)\n",
    "#     print(loss.item())\n",
    "#     #backward pass\n",
    "#     for p in parameters:\n",
    "#          p.grad=None\n",
    "#     loss.backward()\n",
    "#     #update\n",
    "#     for p in parameters:\n",
    "#          p.data+=-0.1*p.grad\n",
    "# print(loss.item())\n"
   ]
  },
  {
   "cell_type": "code",
   "execution_count": 26,
   "metadata": {},
   "outputs": [
    {
     "data": {
      "text/plain": [
       "tensor([3, 0, 4, 0, 2, 4, 2, 4, 4, 2, 2, 2, 0, 3, 0, 2, 3, 2, 1, 2, 0, 3, 4, 4,\n",
       "        3, 4, 2, 2, 4, 3, 2, 4])"
      ]
     },
     "execution_count": 26,
     "metadata": {},
     "output_type": "execute_result"
    }
   ],
   "source": [
    "torch.randint(0,5,(32,))\n"
   ]
  },
  {
   "cell_type": "code",
   "execution_count": 27,
   "metadata": {},
   "outputs": [],
   "source": [
    "lre=torch.linspace(-3,0,1000)\n",
    "lrs=10**lre"
   ]
  },
  {
   "cell_type": "code",
   "execution_count": 28,
   "metadata": {},
   "outputs": [
    {
     "data": {
      "image/png": "[encoded data removed]",
      "text/plain": [
       "<Figure size 800x800 with 1 Axes>"
      ]
     },
     "metadata": {},
     "output_type": "display_data"
    }
   ],
   "source": [
    "# visualize dimensions 0 and 1 of the embedding matrix C for all characters\n",
    "plt.figure(figsize=(8,8))\n",
    "plt.scatter(C[:,0].data, C[:,1].data, s=200)\n",
    "for i in range(C.shape[0]):\n",
    "    plt.text(C[i,0].item(), C[i,1].item(), itos[i], ha=\"center\", va=\"center\", color='white')\n",
    "plt.grid('minor')"
   ]
  },
  {
   "cell_type": "code",
   "execution_count": 29,
   "metadata": {},
   "outputs": [],
   "source": [
    "# plt.plot(lri,lossi)"
   ]
  },
  {
   "cell_type": "code",
   "execution_count": 30,
   "metadata": {},
   "outputs": [],
   "source": [
    "# to avoid overfiting\n",
    "# #80% - training split\n",
    "#10% - dev/validation split\n",
    "#10% - test split"
   ]
  },
  {
   "cell_type": "code",
   "execution_count": 31,
   "metadata": {},
   "outputs": [
    {
     "name": "stdout",
     "output_type": "stream",
     "text": [
      "torch.Size([38242, 3]) torch.Size([38242])\n",
      "torch.Size([4733, 3]) torch.Size([4733])\n",
      "torch.Size([4731, 3]) torch.Size([4731])\n"
     ]
    }
   ],
   "source": [
    "#creating a dataset\n",
    "def build_dataset(words): #TO split in three parts\n",
    "    block_size=3 # context length i.e from how many chars we predict the next one\n",
    "    x,y=[],[] \n",
    "    for w in words:\n",
    "      #  print(w)\n",
    "       context=[0]*block_size #initially it has context 3\n",
    "       for ch in w+'.':\n",
    "          ix=stoi[ch]\n",
    "          x.append(context)\n",
    "          y.append(ix)\n",
    "        #   print(''.join((itos[i]) for i in context),'----->',itos[ix])   #converts the context into the list\n",
    "          context=context[1:]+[ix] # to remove the first element and add the new element in the last to update the context\n",
    "    x=torch.tensor(x)\n",
    "    y=torch.tensor(y)\n",
    "    print(x.shape,y.shape)\n",
    "    return x,y\n",
    "import random\n",
    "random.seed(42)\n",
    "random.shuffle(words) # shuffle all the words in a particular ordergit config --global\n",
    "n1=int(0.8*len(words)) #0.8 * 32000=28000 (app)\n",
    "n2=int(0.9*len(words)) #0.9 * 32000=25000\n",
    "xtr,ytr=build_dataset(words[:n1])\n",
    "xdev,ydev=build_dataset(words[n1:n2]) #n1-n2\n",
    "xte,yte=build_dataset(words[n2:])\n"
   ]
  },
  {
   "cell_type": "code",
   "execution_count": 32,
   "metadata": {},
   "outputs": [
    {
     "name": "stdout",
     "output_type": "stream",
     "text": [
      "5.015928268432617\n"
     ]
    }
   ],
   "source": [
    "# using xtr and ytr\n",
    "lri=[]\n",
    "lossi=[]\n",
    "stepi=[]\n",
    "for i in range(5000):\n",
    "    ix=torch.randint(0,xtr.shape[0],(32,)) #mini batch constructed\n",
    "    emb=C[xtr[ix]] #32,3,10 \n",
    "    h=torch.tanh(emb.view(-1,30) @ W1 + b1) \n",
    "    logits=h @ W2 + b2\n",
    "    loss=F.cross_entropy(logits,ytr[ix])\n",
    "    #print(loss.item())\n",
    "    #backward pass\n",
    "    for p in parameters:\n",
    "         p.grad=None\n",
    "    loss.backward()\n",
    "    #update\n",
    "    lr=0.01\n",
    "    for p in parameters:\n",
    "         p.data+=-lr*p.grad\n",
    "    # lri.append(lre[i])\n",
    "    lossi.append(loss.log10().item())\n",
    "    stepi.append(i)\n",
    "print(loss.item())"
   ]
  },
  {
   "cell_type": "code",
   "execution_count": 33,
   "metadata": {},
   "outputs": [
    {
     "data": {
      "text/plain": [
       "tensor(3.6592, grad_fn=<NllLossBackward0>)"
      ]
     },
     "execution_count": 33,
     "metadata": {},
     "output_type": "execute_result"
    }
   ],
   "source": [
    "ix=torch.randint(0,xdev.shape[0],(32,)) #mini batch constructed\n",
    "emb=C[xdev[ix]] #32,3,2 \n",
    "h=torch.tanh(emb.view(-1,30) @ W1 + b1)\n",
    "logits=h @ W2 + b2\n",
    "loss=F.cross_entropy(logits,ydev[ix])\n",
    "loss"
   ]
  },
  {
   "cell_type": "code",
   "execution_count": 34,
   "metadata": {},
   "outputs": [
    {
     "data": {
      "text/plain": [
       "tensor(3.7315, grad_fn=<NllLossBackward0>)"
      ]
     },
     "execution_count": 34,
     "metadata": {},
     "output_type": "execute_result"
    }
   ],
   "source": [
    "ix=torch.randint(0,xte.shape[0],(32,)) #mini batch constructed\n",
    "emb=C[xte[ix]] #32,3,2 \n",
    "h=torch.tanh(emb.view(-1,30) @ W1 + b1)\n",
    "logits=h @ W2 + b2\n",
    "loss=F.cross_entropy(logits,yte[ix])\n",
    "loss"
   ]
  },
  {
   "cell_type": "code",
   "execution_count": 35,
   "metadata": {},
   "outputs": [
    {
     "data": {
      "text/plain": [
       "(torch.Size([4731, 3]), torch.Size([4731]))"
      ]
     },
     "execution_count": 35,
     "metadata": {},
     "output_type": "execute_result"
    }
   ],
   "source": [
    "xte.shape,yte.shape"
   ]
  },
  {
   "cell_type": "code",
   "execution_count": 36,
   "metadata": {},
   "outputs": [
    {
     "name": "stdout",
     "output_type": "stream",
     "text": [
      "mrtalamnuumi.\n",
      "bhub.\n",
      "hayash.\n",
      "sharshokerar.\n",
      "radhesh.\n",
      "tahihe.\n",
      "pupvwander.\n",
      "vamenar.\n",
      "kal.\n",
      "kowidya.\n",
      "nashiker.\n",
      "shima.\n",
      "sak.\n",
      "nir.\n",
      "juinjan.\n",
      "pucayu.\n",
      "man.\n",
      "dima.\n",
      "shan.\n",
      "mashima.\n",
      "shakayan.\n",
      "haabsakyqhoru.\n",
      "sak.\n",
      "lkeuaan.\n",
      "subbmlhini.\n",
      "chpardik.\n",
      "sirm.\n",
      "opsmprkrinsh.\n",
      "tahwa.\n",
      "hua.\n",
      "rimina.\n",
      "ire.\n",
      "sushawakaa.\n",
      "oodurimita.\n",
      "sakyqhoru.\n",
      "tgi.\n",
      "diiy.\n",
      "dish.\n",
      "mee.\n",
      "rkisbeo.\n",
      "praksh.\n",
      "vhrtpatmlaga.\n",
      "tiga.\n",
      "ulnsrn.\n",
      "dhisavynl.\n",
      "sadashrar.\n",
      "nifva.\n",
      "prakawina.\n",
      "guoa.\n",
      "saray.\n"
     ]
    }
   ],
   "source": [
    "g = torch.Generator().manual_seed(2147483647 + 10)\n",
    "\n",
    "for _ in range(50):\n",
    "    \n",
    "    out = []\n",
    "    context = [0] * block_size #initialize blocksize\n",
    "    while True:\n",
    "      emb = C[torch.tensor([context])] \n",
    "      h = torch.tanh(emb.view(1, -1) @ W1 + b1)\n",
    "      logits = h @ W2 + b2\n",
    "      probs = F.softmax(logits, dim=1)\n",
    "      ix = torch.multinomial(probs, num_samples=1, generator=g).item()\n",
    "      context = context[1:] + [ix]\n",
    "      out.append(ix)\n",
    "      if ix == 0:\n",
    "        break\n",
    "    \n",
    "    print(''.join(itos[i] for i in out))"
   ]
  }
 ],
 "metadata": {
  "kernelspec": {
   "display_name": "Python 3",
   "language": "python",
   "name": "python3"
  },
  "language_info": {
   "codemirror_mode": {
    "name": "ipython",
    "version": 3
   },
   "file_extension": ".py",
   "mimetype": "text/x-python",
   "name": "python",
   "nbconvert_exporter": "python",
   "pygments_lexer": "ipython3",
   "version": "3.10.12"
  }
 },
 "nbformat": 4,
 "nbformat_minor": 2
}
